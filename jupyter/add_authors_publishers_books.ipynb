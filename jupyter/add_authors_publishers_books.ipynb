{
 "cells": [
  {
   "cell_type": "code",
   "execution_count": 43,
   "metadata": {},
   "outputs": [],
   "source": [
    "from django.core.files import File"
   ]
  },
  {
   "cell_type": "code",
   "execution_count": 39,
   "metadata": {},
   "outputs": [],
   "source": [
    "murakami = Author.objects.get_or_create(\n",
    "    salutation = '村上春树',\n",
    "    name = 'murakami haruki',\n",
    "    email = 'murakami@example.com'\n",
    ")[0]\n",
    "yuhua = Author.objects.get_or_create(\n",
    "    salutation = '余华',\n",
    "    name='yu hua',\n",
    "    email = 'yuhua@test.com'\n",
    ")[0]\n",
    "moyan = Author.objects.get_or_create(\n",
    "    salutation = '莫言',\n",
    "    name = 'mo yan',\n",
    "    email = 'moyan@authors.cn'\n",
    ")[0]\n",
    "\n",
    "huacheng = Publisher.objects.get_or_create(\n",
    "    name = '花城出版社',\n",
    "    address = '水荫路11号',\n",
    "    city = '广州市',\n",
    "    state_province = '广东省',\n",
    "    website = 'www.ihuacheng.net',\n",
    ")[0]\n",
    "\n",
    "waiyan = Publisher.objects.get_or_create(\n",
    "    name = '外语教学与研究出版社',\n",
    "    address = '西三环为公桥边',\n",
    "    city = '北京市',\n",
    "    state_province = '北京',\n",
    "    website = 'www.fltrp.com',\n",
    ")[0]\n",
    "\n",
    "gxsf = Publisher.objects.get_or_create(\n",
    "    name = '广西师大出版社',\n",
    "    address = '中华路22号',\n",
    "    city = '桂林市',\n",
    "    state_province = '广西壮族自治区',\n",
    "    website = 'www.bbtpress.com',\n",
    ")[0]"
   ]
  },
  {
   "cell_type": "code",
   "execution_count": 42,
   "metadata": {},
   "outputs": [
    {
     "ename": "NameError",
     "evalue": "name 'File' is not defined",
     "output_type": "error",
     "traceback": [
      "\u001b[0;31m---------------------------------------------------------------------------\u001b[0m",
      "\u001b[0;31mNameError\u001b[0m                                 Traceback (most recent call last)",
      "Cell \u001b[0;32mIn [42], line 1\u001b[0m\n\u001b[0;32m----> 1\u001b[0m File\n",
      "\u001b[0;31mNameError\u001b[0m: name 'File' is not defined"
     ]
    }
   ],
   "source": [
    "murakami"
   ]
  },
  {
   "cell_type": "code",
   "execution_count": 41,
   "metadata": {},
   "outputs": [],
   "source": [
    "bird = Book.objects.get_or_create(\n",
    "    title = '奇鸟行状录',\n",
    "    publisher = gxsf,\n",
    ")[0]\n",
    "bird.authors.set([murakami])\n",
    "\n",
    "norway = Book.objects.get_or_create(\n",
    "    title = '挪威的森林',\n",
    "    publisher = waiyan,\n",
    ")[0]\n",
    "norway.authors.add(murakami)\n",
    "\n",
    "knight = Book.objects.get_or_create(\n",
    "    title = '刺杀骑士团长',\n",
    "    publisher = huacheng,\n",
    ")[0]\n",
    "knight.authors.set([murakami])"
   ]
  },
  {
   "cell_type": "code",
   "execution_count": 49,
   "metadata": {},
   "outputs": [],
   "source": [
    "murakami.headshot.save(murakami.name + '.jpg', File(open('../jupyter/image/Murakami Haruki.jpg', 'rb')))\n",
    "yuhua.headshot.save(yuhua.name + '.jpg', File(open('../jupyter/image/yuhua.jpg','rb')))\n",
    "moyan.headshot.save(moyan.name + '.jpg', File(open('../jupyter/image/moyan.jpg', 'rb')))"
   ]
  }
 ],
 "metadata": {
  "kernelspec": {
   "display_name": "Django Kernel",
   "language": "python",
   "name": "django_extensions"
  },
  "language_info": {
   "codemirror_mode": {
    "name": "ipython",
    "version": 3
   },
   "file_extension": ".py",
   "mimetype": "text/x-python",
   "name": "python",
   "nbconvert_exporter": "python",
   "pygments_lexer": "ipython3",
   "version": "3.10.6"
  },
  "orig_nbformat": 4
 },
 "nbformat": 4,
 "nbformat_minor": 2
}
